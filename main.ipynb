{
 "cells": [
  {
   "cell_type": "code",
   "execution_count": null,
   "id": "ef420bc4",
   "metadata": {},
   "outputs": [],
   "source": [
    "from config import Config\n",
    "from data import DeepSpeakBertDataset, save_samples, split_raw_data\n",
    "from models import BaselineModel, DeepSpeakBertModel\n",
    "from torch.optim import Adam\n",
    "from torch.utils.data import DataLoader\n",
    "from utils import run_epoch, train\n",
    "import logging\n",
    "import os\n",
    "import torch\n",
    "import torch.nn as nn"
   ]
  },
  {
   "cell_type": "code",
   "execution_count": null,
   "id": "76502ff5",
   "metadata": {},
   "outputs": [],
   "source": [
    "cfg = Config(\n",
    "    datasets_dir=\"datasets\", raw_dir=\"raw\",\n",
    "    split_dir=\"split\", train_dir=\"train\", val_dir=\"val\", test_dir=\"test\",\n",
    "    groups_dir=\"groups\", messages_dir=\"messages\",\n",
    "    samples_dir=\"samples\", meta_json=\"meta.json\",\n",
    "    recreate_datasets=False, recreate_samples=False,\n",
    "    val_split=0.2, test_split=0.2,\n",
    "    device=\"mps\", best_model_path=\"best_model.pt\", checkpoint=\"checkpoint.pt\",\n",
    "    resume=False, num_epochs=256, batch_size=8,\n",
    "    max_context_length=512, max_group_size=256, max_samples_per_group=1024, patience=8,\n",
    "    output_dir=\"output\", log=\"bert.log\",\n",
    ")\n",
    "\n",
    "if not os.path.isdir(cfg.output_dir):\n",
    "    os.makedirs(cfg.output_dir, exist_ok=True)\n",
    "\n",
    "logging.basicConfig(\n",
    "    filename=os.path.join(cfg.output_dir, cfg.log),\n",
    "    filemode='w',\n",
    "    format='%(asctime)s - %(levelname)s: %(message)s',\n",
    "    level=logging.INFO,\n",
    ")"
   ]
  },
  {
   "cell_type": "code",
   "execution_count": null,
   "id": "6d11b0f6",
   "metadata": {},
   "outputs": [],
   "source": [
    "split_raw_data(cfg)"
   ]
  },
  {
   "cell_type": "code",
   "execution_count": null,
   "id": "6b15f150",
   "metadata": {},
   "outputs": [],
   "source": [
    "save_samples(cfg)"
   ]
  },
  {
   "cell_type": "code",
   "execution_count": null,
   "id": "4fe9d51c",
   "metadata": {},
   "outputs": [],
   "source": [
    "samples_dir = os.path.join(cfg.datasets_dir, cfg.samples_dir)\n",
    "samples_dirs = tuple(os.path.join(samples_dir, d) for d in (cfg.train_dir, cfg.val_dir, cfg.test_dir))\n",
    "datasets = tuple(DeepSpeakBertDataset(cfg, d) for d in samples_dirs)\n",
    "train_dl = DataLoader(datasets[0], batch_size=cfg.batch_size)\n",
    "val_dl = DataLoader(datasets[1], batch_size=cfg.batch_size)\n",
    "test_dl = DataLoader(datasets[2], batch_size=cfg.batch_size)"
   ]
  },
  {
   "cell_type": "code",
   "execution_count": null,
   "id": "4982b348",
   "metadata": {},
   "outputs": [],
   "source": [
    "#model = BaselineModel()\n",
    "#optimizer = None\n",
    "#criterion = nn.CrossEntropyLoss()\n",
    "\n",
    "model = DeepSpeakBertModel(cfg)\n",
    "criterion = nn.CrossEntropyLoss()\n",
    "optimizer = Adam(model.parameters(), lr=2e-5)"
   ]
  },
  {
   "cell_type": "code",
   "execution_count": null,
   "id": "6b4b3bc8",
   "metadata": {},
   "outputs": [],
   "source": [
    "train(cfg, model, train_dl, val_dl, criterion, optimizer)"
   ]
  },
  {
   "cell_type": "code",
   "execution_count": null,
   "id": "917cfc97",
   "metadata": {},
   "outputs": [],
   "source": [
    "model.load_state_dict(torch.load(os.path.join(cfg.output_dir, cfg.best_model_path)))\n",
    "model.to(cfg.device)\n",
    "\n",
    "test_loss, test_accuracy = run_epoch(cfg.device, model, test_dl, criterion)\n",
    "\n",
    "log_msg = f\"Test Loss: {test_loss:.4f}, Test Acc: {test_accuracy:.4f}\"\n",
    "logging.info(log_msg)\n",
    "print(log_msg)"
   ]
  }
 ],
 "metadata": {
  "kernelspec": {
   "display_name": ".venv",
   "language": "python",
   "name": "python3"
  },
  "language_info": {
   "codemirror_mode": {
    "name": "ipython",
    "version": 3
   },
   "file_extension": ".py",
   "mimetype": "text/x-python",
   "name": "python",
   "nbconvert_exporter": "python",
   "pygments_lexer": "ipython3",
   "version": "3.13.2"
  }
 },
 "nbformat": 4,
 "nbformat_minor": 5
}
