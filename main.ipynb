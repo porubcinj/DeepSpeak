{
 "cells": [
  {
   "cell_type": "code",
   "execution_count": null,
   "metadata": {},
   "outputs": [],
   "source": [
    "from config import Config\n",
    "from data import get_dataframes, DeepSpeakBertDataset\n",
    "from models import BaselineModel, DeepSpeakBertModel\n",
    "from torch.optim import Adam\n",
    "from torch.utils.data import DataLoader\n",
    "import logging\n",
    "import numpy as np\n",
    "import os\n",
    "import torch.nn as nn\n",
    "import torch"
   ]
  },
  {
   "cell_type": "code",
   "execution_count": null,
   "metadata": {},
   "outputs": [],
   "source": [
    "cfg = Config(\n",
    "    datasets_dir=\"datasets\", raw_dir=\"raw\",\n",
    "    groups_csv=\"groups.csv\", messages_csv=\"messages.csv\",\n",
    "    val_split=0.2, test_split=0.2, recreate_datasets=False,\n",
    "    device=\"mps\",\n",
    "    num_epochs=256, batch_size=4,\n",
    "    max_context_length=4096, max_group_size=65536,\n",
    "    output_dir=\"output\", log=\"bert.log\",\n",
    ")\n",
    "\n",
    "if not os.path.exists(cfg.output_dir):\n",
    "    os.mkdir(cfg.output_dir)\n",
    "\n",
    "logging.basicConfig(\n",
    "    filename=os.path.join(cfg.output_dir, cfg.log),\n",
    "    filemode='w',\n",
    "    format='%(asctime)s - %(levelname)s: %(message)s',\n",
    "    level=logging.INFO,\n",
    ")\n",
    "\n",
    "rng = np.random.default_rng()"
   ]
  },
  {
   "cell_type": "code",
   "execution_count": null,
   "metadata": {},
   "outputs": [],
   "source": [
    "train_val_groups_df, train_messages_df, val_messages_df, test_groups_df, test_messages_df = get_dataframes(cfg, rng)\n",
    "\n",
    "train_ds = DeepSpeakBertDataset(cfg, train_val_groups_df, train_messages_df)\n",
    "val_ds = DeepSpeakBertDataset(cfg, train_val_groups_df, val_messages_df)\n",
    "test_ds = DeepSpeakBertDataset(cfg, test_groups_df, test_messages_df)\n",
    "\n",
    "train_dl = DataLoader(train_ds, batch_size=cfg.batch_size)\n",
    "val_dl = DataLoader(val_ds, batch_size=cfg.batch_size)\n",
    "test_dl = DataLoader(test_ds, batch_size=cfg.batch_size)"
   ]
  },
  {
   "cell_type": "code",
   "execution_count": null,
   "metadata": {},
   "outputs": [],
   "source": [
    "#model = BaselineModel()\n",
    "#optimizer = None\n",
    "#criterion = nn.CrossEntropyLoss()\n",
    "\n",
    "model = DeepSpeakBertModel(cfg)\n",
    "criterion = nn.CrossEntropyLoss()\n",
    "optimizer = Adam(model.parameters(), lr=2e-5)"
   ]
  },
  {
   "cell_type": "code",
   "execution_count": null,
   "metadata": {},
   "outputs": [],
   "source": [
    "model.to(cfg.device)"
   ]
  },
  {
   "cell_type": "code",
   "execution_count": null,
   "metadata": {},
   "outputs": [],
   "source": [
    "def run_epoch(device: str, model: nn.Module, dataloader: DataLoader, criterion: nn.CrossEntropyLoss, optimizer: Adam | None = None):\n",
    "    total_loss = 0.0\n",
    "    correct = 0\n",
    "    total = 0\n",
    "\n",
    "    if is_training := optimizer is not None:\n",
    "        model.train()\n",
    "        context = torch.enable_grad()\n",
    "    else:\n",
    "        model.eval()\n",
    "        context = torch.no_grad()\n",
    "\n",
    "    with context:\n",
    "        for samples, labels in dataloader:\n",
    "            samples = {k: v.to(device) for k, v in samples.items()}\n",
    "            labels = labels.to(device)\n",
    "\n",
    "            if is_training:\n",
    "                optimizer.zero_grad()\n",
    "\n",
    "            logits = model(**samples)\n",
    "            loss = criterion(logits, labels)\n",
    "\n",
    "            if is_training:\n",
    "                loss.backward()\n",
    "                optimizer.step()\n",
    "\n",
    "            total_loss += loss.item() * labels.size(0)\n",
    "            preds = torch.argmax(logits, dim=1)\n",
    "            correct += (preds == labels).sum().item()\n",
    "            total += labels.size(0)\n",
    "\n",
    "    avg_loss = total_loss / total\n",
    "    accuracy = correct / total\n",
    "\n",
    "    return avg_loss, accuracy"
   ]
  },
  {
   "cell_type": "code",
   "execution_count": null,
   "metadata": {},
   "outputs": [],
   "source": [
    "best_val_loss = torch.inf\n",
    "epochs_without_improvement = 0\n",
    "patience = 8\n",
    "best_model_path = os.path.join(cfg.output_dir, \"best_model.pt\")\n",
    "\n",
    "for epoch in range(cfg.num_epochs):\n",
    "    log_msg = f\"Epoch {epoch + 1}/{cfg.num_epochs}\"\n",
    "    logging.info(log_msg)\n",
    "    print(log_msg)\n",
    "\n",
    "    for is_training in (True, False):\n",
    "        avg_loss, accuracy = run_epoch(\n",
    "            cfg.device,\n",
    "            model,\n",
    "            train_dl if is_training else val_dl,\n",
    "            criterion,\n",
    "            optimizer if is_training else None,\n",
    "        )\n",
    "\n",
    "        mode = \"Train\" if is_training else \"Val\"\n",
    "        log_msg = f\"{mode} Loss: {avg_loss:.4f}, {mode} Acc: {accuracy:.4f}\"\n",
    "        logging.info(log_msg)\n",
    "        print(log_msg)\n",
    "\n",
    "    if avg_loss < best_val_loss:\n",
    "        best_val_loss = avg_loss\n",
    "        epochs_without_improvement = 0\n",
    "        torch.save(model.state_dict(), best_model_path)\n",
    "    else:\n",
    "        epochs_without_improvement += 1\n",
    "        if epochs_without_improvement >= patience:\n",
    "            log_msg = f\"Stopping early after {epoch + 1} epochs (no improvement for {patience} epochs).\"\n",
    "            logging.info(log_msg)\n",
    "            print(log_msg)\n",
    "            break"
   ]
  },
  {
   "cell_type": "code",
   "execution_count": null,
   "metadata": {},
   "outputs": [],
   "source": [
    "model.load_state_dict(torch.load(best_model_path))\n",
    "model.to(cfg.device)\n",
    "\n",
    "test_loss, test_accuracy = run_epoch(cfg.device, model, test_dl, criterion)\n",
    "\n",
    "log_msg = f\"Test Loss: {test_loss:.4f}, Test Acc: {test_accuracy:.4f}\"\n",
    "logging.info(log_msg)\n",
    "print(log_msg)"
   ]
  }
 ],
 "metadata": {
  "kernelspec": {
   "display_name": ".venv",
   "language": "python",
   "name": "python3"
  },
  "language_info": {
   "codemirror_mode": {
    "name": "ipython",
    "version": 3
   },
   "file_extension": ".py",
   "mimetype": "text/x-python",
   "name": "python",
   "nbconvert_exporter": "python",
   "pygments_lexer": "ipython3",
   "version": "3.13.2"
  }
 },
 "nbformat": 4,
 "nbformat_minor": 2
}
